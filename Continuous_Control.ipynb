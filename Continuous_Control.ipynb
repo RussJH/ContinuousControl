{
 "cells": [
  {
   "cell_type": "markdown",
   "metadata": {},
   "source": [
    "# Continuous Control\n",
    "\n",
    "---\n",
    "\n",
    "In this notebook, you will learn how to use the Unity ML-Agents environment for the second project of the [Deep Reinforcement Learning Nanodegree](https://www.udacity.com/course/deep-reinforcement-learning-nanodegree--nd893) program.\n",
    "\n",
    "### 1. Start the Environment\n",
    "\n",
    "We begin by importing the necessary packages.  If the code cell below returns an error, please revisit the project instructions to double-check that you have installed [Unity ML-Agents](https://github.com/Unity-Technologies/ml-agents/blob/master/docs/Installation.md) and [NumPy](http://www.numpy.org/)."
   ]
  },
  {
   "cell_type": "code",
   "execution_count": 2,
   "metadata": {},
   "outputs": [],
   "source": [
    "from unityagents import UnityEnvironment\n",
    "import numpy as np\n",
    "import torch\n",
    "from Agent import Agent \n",
    "from collections import deque"
   ]
  },
  {
   "cell_type": "markdown",
   "metadata": {},
   "source": [
    "Next, we will start the environment!  **_Before running the code cell below_**, change the `file_name` parameter to match the location of the Unity environment that you downloaded.\n",
    "\n",
    "- **Mac**: `\"path/to/Reacher.app\"`\n",
    "- **Windows** (x86): `\"path/to/Reacher_Windows_x86/Reacher.exe\"`\n",
    "- **Windows** (x86_64): `\"path/to/Reacher_Windows_x86_64/Reacher.exe\"`\n",
    "- **Linux** (x86): `\"path/to/Reacher_Linux/Reacher.x86\"`\n",
    "- **Linux** (x86_64): `\"path/to/Reacher_Linux/Reacher.x86_64\"`\n",
    "- **Linux** (x86, headless): `\"path/to/Reacher_Linux_NoVis/Reacher.x86\"`\n",
    "- **Linux** (x86_64, headless): `\"path/to/Reacher_Linux_NoVis/Reacher.x86_64\"`\n",
    "\n",
    "For instance, if you are using a Mac, then you downloaded `Reacher.app`.  If this file is in the same folder as the notebook, then the line below should appear as follows:\n",
    "```\n",
    "env = UnityEnvironment(file_name=\"Reacher.app\")\n",
    "```"
   ]
  },
  {
   "cell_type": "code",
   "execution_count": 3,
   "metadata": {},
   "outputs": [
    {
     "output_type": "stream",
     "name": "stderr",
     "text": [
      "INFO:unityagents:\n'Academy' started successfully!\nUnity Academy name: Academy\n        Number of Brains: 1\n        Number of External Brains : 1\n        Lesson number : 0\n        Reset Parameters :\n\t\tgoal_speed -> 1.0\n\t\tgoal_size -> 5.0\nUnity brain name: ReacherBrain\n        Number of Visual Observations (per agent): 0\n        Vector Observation space type: continuous\n        Vector Observation space size (per agent): 33\n        Number of stacked Vector Observation: 1\n        Vector Action space type: continuous\n        Vector Action space size (per agent): 4\n        Vector Action descriptions: , , , \n"
     ]
    }
   ],
   "source": [
    "env = UnityEnvironment(file_name='Reacher.exe')"
   ]
  },
  {
   "cell_type": "markdown",
   "metadata": {},
   "source": [
    "Environments contain **_brains_** which are responsible for deciding the actions of their associated agents. Here we check for the first brain available, and set it as the default brain we will be controlling from Python."
   ]
  },
  {
   "cell_type": "code",
   "execution_count": 4,
   "metadata": {},
   "outputs": [],
   "source": [
    "# get the default brain\n",
    "brain_name = env.brain_names[0]\n",
    "brain = env.brains[brain_name]"
   ]
  },
  {
   "cell_type": "markdown",
   "metadata": {},
   "source": [
    "### 2. Examine the State and Action Spaces\n",
    "\n",
    "In this environment, a double-jointed arm can move to target locations. A reward of `+0.1` is provided for each step that the agent's hand is in the goal location. Thus, the goal of your agent is to maintain its position at the target location for as many time steps as possible.\n",
    "\n",
    "The observation space consists of `33` variables corresponding to position, rotation, velocity, and angular velocities of the arm.  Each action is a vector with four numbers, corresponding to torque applicable to two joints.  Every entry in the action vector must be a number between `-1` and `1`.\n",
    "\n",
    "Run the code cell below to print some information about the environment."
   ]
  },
  {
   "cell_type": "code",
   "execution_count": 5,
   "metadata": {},
   "outputs": [
    {
     "output_type": "stream",
     "name": "stdout",
     "text": [
      "Number of agents: 1\nSize of each action: 4\nThere are 1 agents. Each observes a state with length: 33\nThe state for the first agent looks like: [ 0.00000000e+00 -4.00000000e+00  0.00000000e+00  1.00000000e+00\n -0.00000000e+00 -0.00000000e+00 -4.37113883e-08  0.00000000e+00\n  0.00000000e+00  0.00000000e+00  0.00000000e+00  0.00000000e+00\n  0.00000000e+00  0.00000000e+00 -1.00000000e+01  0.00000000e+00\n  1.00000000e+00 -0.00000000e+00 -0.00000000e+00 -4.37113883e-08\n  0.00000000e+00  0.00000000e+00  0.00000000e+00  0.00000000e+00\n  0.00000000e+00  0.00000000e+00  5.75471878e+00 -1.00000000e+00\n  5.55726671e+00  0.00000000e+00  1.00000000e+00  0.00000000e+00\n -1.68164849e-01]\n"
     ]
    }
   ],
   "source": [
    "# reset the environment\n",
    "env_info = env.reset(train_mode=True)[brain_name]\n",
    "\n",
    "# number of agents\n",
    "num_agents = len(env_info.agents)\n",
    "print('Number of agents:', num_agents)\n",
    "\n",
    "# size of each action\n",
    "action_size = brain.vector_action_space_size\n",
    "print('Size of each action:', action_size)\n",
    "\n",
    "# examine the state space \n",
    "states = env_info.vector_observations\n",
    "state_size = states.shape[1]\n",
    "print('There are {} agents. Each observes a state with length: {}'.format(states.shape[0], state_size))\n",
    "print('The state for the first agent looks like:', states[0])\n",
    "\n",
    "#Initialize agent\n",
    "agent = Agent(state_size, action_size)"
   ]
  },
  {
   "cell_type": "markdown",
   "metadata": {},
   "source": [
    "### 3. Take Random Actions in the Environment\n",
    "\n",
    "In the next code cell, you will learn how to use the Python API to control the agent and receive feedback from the environment.\n",
    "\n",
    "Once this cell is executed, you will watch the agent's performance, if it selects an action at random with each time step.  A window should pop up that allows you to observe the agent, as it moves through the environment.  \n",
    "\n",
    "Of course, as part of the project, you'll have to change the code so that the agent is able to use its experience to gradually choose better actions when interacting with the environment!"
   ]
  },
  {
   "cell_type": "code",
   "execution_count": 5,
   "metadata": {
    "tags": []
   },
   "outputs": [
    {
     "output_type": "stream",
     "name": "stderr",
     "text": [
      "C:\\ProgramData\\Anaconda3\\envs\\drlnd\\lib\\site-packages\\torch\\nn\\functional.py:1698: UserWarning: nn.functional.tanh is deprecated. Use torch.tanh instead.\n",
      "  warnings.warn(\"nn.functional.tanh is deprecated. Use torch.tanh instead.\")\n",
      "Episode 25  -- \tMean Score =2.1 -- \t Avg: 0.9\n",
      "Episode 50  -- \tMean Score =3.0 -- \t Avg: 1.3\n",
      "Episode 75  -- \tMean Score =0.7 -- \t Avg: 1.9\n",
      "Episode 100  -- \tMean Score =5.4 -- \t Avg: 2.3\n",
      "Episode 125  -- \tMean Score =7.8 -- \t Avg: 3.4\n",
      "Episode 150  -- \tMean Score =5.8 -- \t Avg: 5.0\n",
      "Episode 175  -- \tMean Score =10.4 -- \t Avg: 6.7\n",
      "Episode 200  -- \tMean Score =8.7 -- \t Avg: 8.3\n",
      "Episode 225  -- \tMean Score =13.5 -- \t Avg: 9.9\n",
      "Episode 250  -- \tMean Score =13.9 -- \t Avg: 11.2\n",
      "Episode 275  -- \tMean Score =13.9 -- \t Avg: 12.5\n",
      "Episode 300  -- \tMean Score =22.1 -- \t Avg: 14.7\n",
      "Episode 325  -- \tMean Score =19.2 -- \t Avg: 16.0\n",
      "Episode 350  -- \tMean Score =19.8 -- \t Avg: 17.1\n",
      "Episode 375  -- \tMean Score =18.9 -- \t Avg: 17.1\n",
      "Episode 400  -- \tMean Score =15.2 -- \t Avg: 16.1\n",
      "Episode 425  -- \tMean Score =9.6 -- \t Avg: 16.1\n",
      "Episode 450  -- \tMean Score =11.2 -- \t Avg: 15.8\n",
      "Episode 475  -- \tMean Score =24.8 -- \t Avg: 16.1\n",
      "Episode 500  -- \tMean Score =11.3 -- \t Avg: 17.6\n",
      "Episode 525  -- \tMean Score =8.1 -- \t Avg: 17.5\n",
      "Episode 550  -- \tMean Score =20.8 -- \t Avg: 18.5\n",
      "Episode 575  -- \tMean Score =6.3 -- \t Avg: 18.2\n",
      "Episode 600  -- \tMean Score =13.2 -- \t Avg: 17.1\n",
      "Episode 625  -- \tMean Score =23.1 -- \t Avg: 17.1\n",
      "Episode 650  -- \tMean Score =23.7 -- \t Avg: 16.8\n",
      "Episode 675  -- \tMean Score =11.0 -- \t Avg: 18.4\n",
      "Episode 700  -- \tMean Score =31.8 -- \t Avg: 19.0\n",
      "Episode 725  -- \tMean Score =21.6 -- \t Avg: 20.0\n",
      "Episode 750  -- \tMean Score =20.9 -- \t Avg: 20.4\n",
      "Episode 775  -- \tMean Score =30.4 -- \t Avg: 19.9\n",
      "Episode 800  -- \tMean Score =27.0 -- \t Avg: 21.0\n",
      "Episode 825  -- \tMean Score =25.7 -- \t Avg: 22.0\n",
      "Episode 850  -- \tMean Score =23.6 -- \t Avg: 22.8\n",
      "Episode 875  -- \tMean Score =27.6 -- \t Avg: 23.9\n",
      "Episode 900  -- \tMean Score =22.9 -- \t Avg: 24.2\n",
      "Episode 925  -- \tMean Score =31.4 -- \t Avg: 24.4\n",
      "Episode 950  -- \tMean Score =33.1 -- \t Avg: 25.0\n",
      "Episode 975  -- \tMean Score =30.1 -- \t Avg: 25.9\n",
      "Episode 1000  -- \tMean Score =22.9 -- \t Avg: 26.5\n",
      "Episode 1025  -- \tMean Score =35.3 -- \t Avg: 27.5\n",
      "Episode 1050  -- \tMean Score =32.7 -- \t Avg: 28.7\n",
      "Episode 1075  -- \tMean Score =37.9 -- \t Avg: 29.6\n",
      "\n",
      "Environment SOLVED in 980 episodes!\tMoving Average =39.2 over last 30.011599329188467 episodes\n"
     ]
    }
   ],
   "source": [
    "\n",
    "n_episodes = 5000\n",
    "max_t = 1000\n",
    "scores_window = deque(maxlen=100)\n",
    "mean_scores = []\n",
    "avgs = []\n",
    "for i_episode in range(1, n_episodes+1):\n",
    "    env_info = env.reset(train_mode=True)[brain_name]      # reset the environment    \n",
    "    states = env_info.vector_observations                  # get the current state (for each agent)\n",
    "    scores = np.zeros(num_agents)\n",
    "    agent.reset_noise()\n",
    "    for t in range(max_t):\n",
    "        # actions = np.random.randn(num_agents, action_size) # select an action (for each agent)\n",
    "        actions = agent.get_action(states, add_noise=True)\n",
    "        env_info = env.step(actions)[brain_name]           # send all actions to tne environment\n",
    "        next_states = env_info.vector_observations         # get next state (for each agent)\n",
    "        rewards = env_info.rewards                         # get reward (for each agent)\n",
    "        dones = env_info.local_done                        # see if episode finished\n",
    "        for state, action, reward, next_state, done in zip(states, actions, rewards, next_states, dones):\n",
    "            agent.step(state, action, reward, next_state, done, t)\n",
    "        states = next_states                               # roll over states to nex\n",
    "        scores += rewards\n",
    "        if np.any(dones):                                  # exit loop if episode finished\n",
    "            break\n",
    "    \n",
    "    mean_scores.append(np.mean(scores))\n",
    "    scores_window.append(mean_scores[-1])\n",
    "    avgs.append(np.mean(scores_window))  # save moving average\n",
    "\n",
    "    if i_episode % 25 == 0:\n",
    "        print('\\rEpisode {}  -- \\tMean Score ={:.1f} -- \\t Avg: {:.1f}'.format( \\\n",
    "                    i_episode, mean_scores[-1], avgs[-1]))\n",
    "    \n",
    "    if avgs[-1] >= 30 and i_episode >= 100:\n",
    "            print('\\nEnvironment SOLVED in {} episodes!\\tMoving Average ={:.1f} over last {} episodes'.format( \\\n",
    "                i_episode - 100, mean_scores[-1], avgs[-1], 100))\n",
    "            torch.save(agent.actor_local.state_dict(), 'checkpoint_actor.pth')\n",
    "            torch.save(agent.critic_local.state_dict(), 'checkpoint_critic.pth')\n",
    "            break"
   ]
  },
  {
   "cell_type": "markdown",
   "metadata": {},
   "source": [
    "Running the solved environment\n",
    "\n"
   ]
  },
  {
   "source": [
    "\n",
    "agent.actor_local.load_state_dict(torch.load('checkpoint_actor.pth'))\n",
    "agent.critic_local.load_state_dict(torch.load('checkpoint_critic.pth'))\n",
    "env_info = env.reset(train_mode=False)[brain_name]      # reset the environment    \n",
    "states = env_info.vector_observations                  # get the current state (for each agent)\n",
    "scores = np.zeros(num_agents)                          # initialize the score (for each agent)\n",
    "while True:\n",
    "    actions = agent.get_action(states, add_noise=False)\n",
    "    env_info = env.step(actions)[brain_name]           # send all actions to tne environment\n",
    "    next_states = env_info.vector_observations         # get next state (for each agent)\n",
    "    rewards = env_info.rewards                         # get reward (for each agent)\n",
    "    dones = env_info.local_done                        # see if episode finished\n",
    "    scores += env_info.rewards                         # update the score (for each agent)\n",
    "    states = next_states                               # roll over states to next time step\n",
    "    if np.any(dones):                                  # exit loop if episode finished\n",
    "        break\n",
    "print('Total score (averaged over agents) this episode: {}'.format(np.mean(scores)))"
   ],
   "cell_type": "code",
   "metadata": {},
   "execution_count": 7,
   "outputs": [
    {
     "output_type": "stream",
     "name": "stderr",
     "text": [
      "C:\\ProgramData\\Anaconda3\\envs\\drlnd\\lib\\site-packages\\torch\\nn\\functional.py:1698: UserWarning: nn.functional.tanh is deprecated. Use torch.tanh instead.\n",
      "  warnings.warn(\"nn.functional.tanh is deprecated. Use torch.tanh instead.\")\n",
      "Total score (averaged over agents) this episode: 38.95999912917614\n"
     ]
    }
   ]
  },
  {
   "cell_type": "code",
   "execution_count": 6,
   "metadata": {},
   "outputs": [],
   "source": [
    "env.close()"
   ]
  },
  {
   "cell_type": "markdown",
   "metadata": {},
   "source": [
    "### 4. It's Your Turn!\n",
    "\n",
    "Now it's your turn to train your own agent to solve the environment!  When training the environment, set `train_mode=True`, so that the line for resetting the environment looks like the following:\n",
    "```python\n",
    "env_info = env.reset(train_mode=True)[brain_name]\n",
    "```"
   ]
  }
 ],
 "metadata": {
  "kernelspec": {
   "name": "python3613jvsc74a57bd09fc941ae741b42bd5ee8860c2b645f74526ceb53039a7206b8cef08e93469443",
   "display_name": "Python 3.6.13 64-bit ('drlnd': conda)"
  },
  "language_info": {
   "codemirror_mode": {
    "name": "ipython",
    "version": 3
   },
   "file_extension": ".py",
   "mimetype": "text/x-python",
   "name": "python",
   "nbconvert_exporter": "python",
   "pygments_lexer": "ipython3",
   "version": "3.6.13"
  }
 },
 "nbformat": 4,
 "nbformat_minor": 2
}